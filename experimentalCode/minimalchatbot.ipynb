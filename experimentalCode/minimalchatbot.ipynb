{
 "cells": [
  {
   "cell_type": "markdown",
   "id": "9fa234b9",
   "metadata": {},
   "source": [
    "# Minimal PDF Chatbot with Gemini API\n",
    "This notebook lets you upload a PDF and chat with it using Google's Gemini API. You can ask questions, request summaries, and more. The API key is loaded securely from a `.env` file."
   ]
  },
  {
   "cell_type": "markdown",
   "id": "c0631974",
   "metadata": {},
   "source": [
    "## 1. Import Libraries and Load API Key\n",
    "\n",
    "This cell imports all required libraries and loads your Gemini API key from the `.env` file."
   ]
  },
  {
   "cell_type": "code",
   "execution_count": 11,
   "id": "9b089d61",
   "metadata": {},
   "outputs": [],
   "source": [
    "import PyPDF2\n",
    "import requests\n",
    "from io import BytesIO\n",
    "from IPython.display import display, Markdown\n",
    "import ipywidgets as widgets\n",
    "import os\n",
    "from dotenv import load_dotenv\n",
    "\n",
    "# Load Gemini API key from .env file\n",
    "load_dotenv()\n",
    "GEMINI_API_KEY = os.getenv('GEMINI_API_KEY')\n",
    "if not GEMINI_API_KEY:\n",
    "    raise ValueError(\"GEMINI_API_KEY not found. Please set it in a .env file.\")\n",
    "GEMINI_API_URL = 'https://generativelanguage.googleapis.com/v1beta/models/gemini-2.0-flash:generateContent'"
   ]
  },
  {
   "cell_type": "markdown",
   "id": "7b91fe58",
   "metadata": {},
   "source": [
    "## 2. Gemini API and PDF Extraction Helpers\n",
    "\n",
    "This cell defines the function to call Gemini and a helper to extract text from PDFs."
   ]
  },
  {
   "cell_type": "code",
   "execution_count": 12,
   "id": "4e15350a",
   "metadata": {},
   "outputs": [],
   "source": [
    "def ask_gemini(prompt, context=None):\n",
    "    \"\"\"Send a prompt (and optional context) to Gemini API and return the response text.\"\"\"\n",
    "    headers = {\n",
    "        'Content-Type': 'application/json',\n",
    "        'X-goog-api-key': GEMINI_API_KEY\n",
    "    }\n",
    "    if context:\n",
    "        full_prompt = f\"Context: {context}\\n\\nUser: {prompt}\"\n",
    "    else:\n",
    "        full_prompt = prompt\n",
    "    data = {\n",
    "        \"contents\": [{\"parts\": [{\"text\": full_prompt}]}]\n",
    "    }\n",
    "    response = requests.post(GEMINI_API_URL, headers=headers, json=data)\n",
    "    if response.status_code == 200:\n",
    "        return response.json()['candidates'][0]['content']['parts'][0]['text']\n",
    "    else:\n",
    "        return f\"Error: {response.status_code} - {response.text}\"\n",
    "\n",
    "def extract_pdf_text(pdf_bytes):\n",
    "    \"\"\"Extract all text from a PDF file (as bytes).\"\"\"\n",
    "    reader = PyPDF2.PdfReader(BytesIO(pdf_bytes))\n",
    "    text = \"\"\n",
    "    for page in reader.pages:\n",
    "        text += page.extract_text() or \"\"\n",
    "    return text"
   ]
  },
  {
   "cell_type": "markdown",
   "id": "d3239655",
   "metadata": {},
   "source": [
    "## 3. Upload PDF and Extract Text\n",
    "\n",
    "Use the widget below to upload your PDF. The text will be extracted and stored for chat context."
   ]
  },
  {
   "cell_type": "code",
   "execution_count": 13,
   "id": "9133ea30",
   "metadata": {},
   "outputs": [
    {
     "data": {
      "text/markdown": [
       "**Upload a PDF to begin chatting:**"
      ],
      "text/plain": [
       "<IPython.core.display.Markdown object>"
      ]
     },
     "metadata": {},
     "output_type": "display_data"
    },
    {
     "data": {
      "application/vnd.jupyter.widget-view+json": {
       "model_id": "d3eb19e8af0c475497f83ff6e45cef12",
       "version_major": 2,
       "version_minor": 0
      },
      "text/plain": [
       "FileUpload(value=(), accept='.pdf', description='Upload')"
      ]
     },
     "metadata": {},
     "output_type": "display_data"
    },
    {
     "data": {
      "text/markdown": [
       "**PDF loaded. Extracted 44550 characters.**"
      ],
      "text/plain": [
       "<IPython.core.display.Markdown object>"
      ]
     },
     "metadata": {},
     "output_type": "display_data"
    },
    {
     "data": {
      "text/markdown": [
       "You can now ask questions or request a summary."
      ],
      "text/plain": [
       "<IPython.core.display.Markdown object>"
      ]
     },
     "metadata": {},
     "output_type": "display_data"
    }
   ],
   "source": [
    "upload_widget = widgets.FileUpload(accept='.pdf', multiple=False)\n",
    "display(Markdown('**Upload a PDF to begin chatting:**'))\n",
    "display(upload_widget)\n",
    "\n",
    "pdf_text = ''\n",
    "\n",
    "def on_upload_change(change):\n",
    "    global pdf_text\n",
    "    if upload_widget.value:\n",
    "        file_info = upload_widget.value[0]\n",
    "        pdf_bytes = file_info['content']\n",
    "        pdf_text = extract_pdf_text(pdf_bytes)\n",
    "        display(Markdown(f\"**PDF loaded. Extracted {len(pdf_text)} characters.**\"))\n",
    "        display(Markdown('You can now ask questions or request a summary.'))\n",
    "\n",
    "upload_widget.observe(on_upload_change, names='value')"
   ]
  },
  {
   "cell_type": "markdown",
   "id": "3d251429",
   "metadata": {},
   "source": [
    "## 4. Chat with the PDF using Gemini\n",
    "\n",
    "Type your questions or requests below. The chatbot will use the extracted PDF text as context for Gemini."
   ]
  },
  {
   "cell_type": "code",
   "execution_count": 15,
   "id": "a3bcf8e5",
   "metadata": {},
   "outputs": [
    {
     "data": {
      "application/vnd.jupyter.widget-view+json": {
       "model_id": "fa814a5fc5ce4d1281d27c7fe95b84d7",
       "version_major": 2,
       "version_minor": 0
      },
      "text/plain": [
       "Textarea(value='', description='You:', placeholder='Ask a question about the PDF, or type \"summarize\"...')"
      ]
     },
     "metadata": {},
     "output_type": "display_data"
    },
    {
     "data": {
      "application/vnd.jupyter.widget-view+json": {
       "model_id": "d0b189f4cbb6473985fcda3ac21121cc",
       "version_major": 2,
       "version_minor": 0
      },
      "text/plain": [
       "Button(button_style='primary', description='Send', style=ButtonStyle())"
      ]
     },
     "metadata": {},
     "output_type": "display_data"
    },
    {
     "data": {
      "application/vnd.jupyter.widget-view+json": {
       "model_id": "1495f846ace548a39930b5a9db428092",
       "version_major": 2,
       "version_minor": 0
      },
      "text/plain": [
       "Output()"
      ]
     },
     "metadata": {},
     "output_type": "display_data"
    }
   ],
   "source": [
    "input_box = widgets.Textarea(placeholder='Ask a question about the PDF, or type \"summarize\"...', description='You:')\n",
    "submit_btn = widgets.Button(description='Send', button_style='primary')\n",
    "output_area = widgets.Output()\n",
    "\n",
    "chat_history = []\n",
    "\n",
    "def on_submit(_):\n",
    "    user_query = input_box.value.strip()\n",
    "    if not user_query:\n",
    "        return\n",
    "    if not pdf_text:\n",
    "        with output_area:\n",
    "            display(Markdown('**Please upload a PDF first.**'))\n",
    "        return\n",
    "    # Use the selected mode to modify the prompt\n",
    "    mode = mode_dropdown.value\n",
    "    if mode == 'Summarize':\n",
    "        prompt = f\"Summarize the following PDF content:\\n{pdf_text}\"\n",
    "    elif mode == 'Extract keywords':\n",
    "        prompt = f\"Extract the main keywords from the following PDF content:\\n{pdf_text}\"\n",
    "    else:\n",
    "        prompt = f\"{user_query}\\n\\nPDF Content:\\n{pdf_text}\"\n",
    "    chat_history.append({'role': 'user', 'content': user_query})\n",
    "    with output_area:\n",
    "        display(Markdown(f'**You:** {user_query}'))\n",
    "        display(Markdown('**Gemini is thinking...**'))\n",
    "    # Call Gemini API\n",
    "    response = ask_gemini(prompt)\n",
    "    chat_history.append({'role': 'gemini', 'content': response})\n",
    "    with output_area:\n",
    "        display(Markdown(f'**Gemini:** {response}'))\n",
    "    input_box.value = ''\n",
    "    output_area.clear_output(wait=True)\n",
    "    # Re-display chat history\n",
    "    for turn in chat_history:\n",
    "        if turn['role'] == 'user':\n",
    "            display(Markdown(f'**You:** {turn[\"content\"]}'))\n",
    "        else:\n",
    "            display(Markdown(f'**Gemini:** {turn[\"content\"]}'))\n",
    "\n",
    "submit_btn.on_click(on_submit)\n",
    "display(input_box, submit_btn, output_area)"
   ]
  },
  {
   "cell_type": "markdown",
   "id": "3e84ed11",
   "metadata": {},
   "source": [
    "## 5. Extra Features\n",
    "\n",
    "The following cells add preview, chat clearing, mode selection, token count, and chat download features."
   ]
  },
  {
   "cell_type": "code",
   "execution_count": 16,
   "id": "66025b2f",
   "metadata": {},
   "outputs": [
    {
     "data": {
      "text/markdown": [
       "**Preview of extracted PDF text (first 1000 chars, total 44550 chars):**"
      ],
      "text/plain": [
       "<IPython.core.display.Markdown object>"
      ]
     },
     "metadata": {},
     "output_type": "display_data"
    },
    {
     "data": {
      "text/markdown": [
       "<pre style=\"max-height:200px;overflow:auto\"> \n",
       "I.\n",
       " \n",
       "Outline\n",
       " \n",
       "of\n",
       " \n",
       "the\n",
       " \n",
       "Research\n",
       " \n",
       "Project\n",
       " \n",
       "I(i)\n",
       " \n",
       "Executive\n",
       " \n",
       "Summary\n",
       " \n",
       "of\n",
       " \n",
       "the\n",
       " \n",
       "Research\n",
       " \n",
       "Project\n",
       " \n",
       "(Include\n",
       " \n",
       "the\n",
       " \n",
       "problem\n",
       " \n",
       "statement,\n",
       " \n",
       "research\n",
       " \n",
       "aims/goals,\n",
       " \n",
       "and\n",
       " \n",
       "methodology.\n",
       " \n",
       "Maximum\n",
       " \n",
       "500\n",
       " \n",
       "words.)\n",
       " \n",
       "Local\n",
       " \n",
       "communication\n",
       " \n",
       "systems\n",
       " \n",
       "are\n",
       " \n",
       "frequently\n",
       " \n",
       "destroyed\n",
       " \n",
       "by\n",
       " \n",
       "natural\n",
       " \n",
       "disasters,\n",
       " \n",
       "leaving\n",
       " \n",
       "survivors\n",
       " \n",
       "alone\n",
       " \n",
       "and\n",
       " \n",
       "postponing\n",
       " \n",
       "rescue\n",
       " \n",
       "efforts.\n",
       " \n",
       "Traditional\n",
       " \n",
       "solutions,\n",
       " \n",
       "like\n",
       " \n",
       "satellite\n",
       " \n",
       "beacons\n",
       " \n",
       "or\n",
       " \n",
       "Bluetooth\n",
       " \n",
       "trackers,\n",
       " \n",
       "are\n",
       " \n",
       "insufficient\n",
       " \n",
       "because\n",
       " \n",
       "emergency\n",
       " \n",
       "beacons\n",
       " \n",
       "are\n",
       " \n",
       "expensive,\n",
       " \n",
       "power-hungry,\n",
       " \n",
       "and\n",
       " \n",
       "not\n",
       " \n",
       "suitable\n",
       " \n",
       "for\n",
       " \n",
       "widespread\n",
       " \n",
       "deployment,\n",
       " \n",
       "while\n",
       " \n",
       "consumer\n",
       " \n",
       "trackers\n",
       " \n",
       "depend\n",
       " \n",
       "on\n",
       " \n",
       "networks\n",
       " \n",
       "that\n",
       " \n",
       "aren't\n",
       " \n",
       "reliable\n",
       " \n",
       "in\n",
       " \n",
       "emergency\n",
       " \n",
       "situations.This\n",
       " \n",
       "creates\n",
       " \n",
       "a\n",
       " \n",
       "critical\n",
       " \n",
       "gap\n",
       " \n",
       "for\n",
       " \n",
       "an\n",
       " \n",
       "affordable,\n",
       " \n",
       "long-lasting,\n",
       " \n",
       "and\n",
       " \n",
       "resilient\n",
       " \n",
       "communication\n",
       " \n",
       "system.\n",
       " \n",
       "This\n",
       " \n",
       "project\n",
       " \n",
       "introduces\n",
       " \n",
       "L.A.S.T.\n",
       " \n",
       "(Last-mile\n",
       " \n",
       "Aid\n",
       " \n",
       "&\n",
       " \n",
       "Survival\n",
       " \n",
       "Transmission),\n",
       " \n",
       "a\n",
       " \n",
       "disaster-ready\n",
       " \n",
       "framework\n",
       " \n",
       "designed\n",
       " \n",
       "to\n",
       " \n",
       "meet\n",
       " \n",
       "the\n",
       " \n",
       "</pre>"
      ],
      "text/plain": [
       "<IPython.core.display.Markdown object>"
      ]
     },
     "metadata": {},
     "output_type": "display_data"
    }
   ],
   "source": [
    "# Preview the first 1000 characters of the extracted PDF text\n",
    "def preview_pdf_text():\n",
    "    if pdf_text:\n",
    "        display(Markdown(f\"**Preview of extracted PDF text (first 1000 chars, total {len(pdf_text)} chars):**\"))\n",
    "        display(Markdown(f'<pre style=\"max-height:200px;overflow:auto\">{pdf_text[:1000]}</pre>'))\n",
    "    else:\n",
    "        display(Markdown('**No PDF text extracted yet.**'))\n",
    "preview_pdf_text()"
   ]
  },
  {
   "cell_type": "code",
   "execution_count": 17,
   "id": "d8928f72",
   "metadata": {},
   "outputs": [
    {
     "data": {
      "application/vnd.jupyter.widget-view+json": {
       "model_id": "67f6c2941966413fb371f3e6075dd24e",
       "version_major": 2,
       "version_minor": 0
      },
      "text/plain": [
       "Dropdown(description='Mode:', options=('Ask a question', 'Summarize', 'Extract keywords'), value='Ask a questi…"
      ]
     },
     "metadata": {},
     "output_type": "display_data"
    },
    {
     "data": {
      "application/vnd.jupyter.widget-view+json": {
       "model_id": "4ff2386d00b443d391a02865058aeddf",
       "version_major": 2,
       "version_minor": 0
      },
      "text/plain": [
       "Button(button_style='danger', description='Clear Chat', style=ButtonStyle())"
      ]
     },
     "metadata": {},
     "output_type": "display_data"
    }
   ],
   "source": [
    "# Chat mode selection and clear chat button\n",
    "mode_dropdown = widgets.Dropdown(options=['Ask a question', 'Summarize', 'Extract keywords'], value='Ask a question', description='Mode:')\n",
    "clear_btn = widgets.Button(description='Clear Chat', button_style='danger')\n",
    "\n",
    "def clear_chat(_):\n",
    "    global chat_history\n",
    "    chat_history = []\n",
    "    output_area.clear_output()\n",
    "    display(Markdown('**Chat history cleared.**'))\n",
    "\n",
    "clear_btn.on_click(clear_chat)\n",
    "display(mode_dropdown, clear_btn)"
   ]
  },
  {
   "cell_type": "code",
   "execution_count": 18,
   "id": "1dbef48c",
   "metadata": {},
   "outputs": [
    {
     "data": {
      "text/markdown": [
       "**PDF context: 44550 characters (~11137 tokens) will be sent to Gemini.**"
      ],
      "text/plain": [
       "<IPython.core.display.Markdown object>"
      ]
     },
     "metadata": {},
     "output_type": "display_data"
    }
   ],
   "source": [
    "# Show number of characters and rough token estimate sent to Gemini\n",
    "def show_token_info():\n",
    "    if pdf_text:\n",
    "        char_count = len(pdf_text)\n",
    "        # Rough estimate: 1 token ≈ 4 chars (varies by language/model)\n",
    "        token_est = char_count // 4\n",
    "        display(Markdown(f\"**PDF context: {char_count} characters (~{token_est} tokens) will be sent to Gemini.**\"))\n",
    "    else:\n",
    "        display(Markdown('**No PDF text extracted yet.**'))\n",
    "show_token_info()"
   ]
  },
  {
   "cell_type": "code",
   "execution_count": 19,
   "id": "5ba4e292",
   "metadata": {},
   "outputs": [
    {
     "data": {
      "application/vnd.jupyter.widget-view+json": {
       "model_id": "03aa926168e6465fb5a215181b698d30",
       "version_major": 2,
       "version_minor": 0
      },
      "text/plain": [
       "Button(button_style='info', description='Download Chat History', style=ButtonStyle())"
      ]
     },
     "metadata": {},
     "output_type": "display_data"
    }
   ],
   "source": [
    "# Download chat history as a text file\n",
    "import io\n",
    "from IPython.display import FileLink\n",
    "\n",
    "def download_chat_history():\n",
    "    if not chat_history:\n",
    "        display(Markdown('**No chat history to download.**'))\n",
    "        return\n",
    "    lines = []\n",
    "    for turn in chat_history:\n",
    "        role = 'You' if turn['role'] == 'user' else 'Gemini'\n",
    "        lines.append(f'{role}: {turn[\"content\"]}\\n')\n",
    "    content = '\\n'.join(lines)\n",
    "    with open('chat_history.txt', 'w', encoding='utf-8') as f:\n",
    "        f.write(content)\n",
    "    display(FileLink('chat_history.txt'))\n",
    "\n",
    "download_btn = widgets.Button(description='Download Chat History', button_style='info')\n",
    "download_btn.on_click(lambda _: download_chat_history())\n",
    "display(download_btn)"
   ]
  }
 ],
 "metadata": {
  "kernelspec": {
   "display_name": "authormaton",
   "language": "python",
   "name": "python3"
  },
  "language_info": {
   "codemirror_mode": {
    "name": "ipython",
    "version": 3
   },
   "file_extension": ".py",
   "mimetype": "text/x-python",
   "name": "python",
   "nbconvert_exporter": "python",
   "pygments_lexer": "ipython3",
   "version": "3.10.18"
  }
 },
 "nbformat": 4,
 "nbformat_minor": 5
}
