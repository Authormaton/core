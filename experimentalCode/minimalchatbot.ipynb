{
 "cells": [
  {
   "cell_type": "markdown",
   "id": "9fa234b9",
   "metadata": {},
   "source": [
    "# Minimal PDF Chatbot with Gemini API\n",
    "This notebook lets you upload a PDF and chat with it using Google's Gemini API. You can ask questions, request summaries, and more. The API key is loaded securely from a `.env` file."
   ]
  },
  {
   "cell_type": "markdown",
   "id": "c0631974",
   "metadata": {},
   "source": [
    "## 1. Import Libraries and Load API Key\n",
    "\n",
    "This cell imports all required libraries and loads your Gemini API key from the `.env` file."
   ]
  },
  {
   "cell_type": "code",
   "execution_count": 2,
   "id": "9b089d61",
   "metadata": {},
   "outputs": [],
   "source": [
    "import PyPDF2\n",
    "import requests\n",
    "from io import BytesIO\n",
    "from IPython.display import display, Markdown\n",
    "import ipywidgets as widgets\n",
    "import os\n",
    "from dotenv import load_dotenv\n",
    "\n",
    "# Load Gemini API key from .env file\n",
    "load_dotenv()\n",
    "GEMINI_API_KEY = os.getenv('GEMINI_API_KEY')\n",
    "if not GEMINI_API_KEY:\n",
    "    raise ValueError(\"GEMINI_API_KEY not found. Please set it in a .env file.\")\n",
    "GEMINI_API_URL = 'https://generativelanguage.googleapis.com/v1beta/models/gemini-2.0-flash:generateContent'"
   ]
  },
  {
   "cell_type": "markdown",
   "id": "7b91fe58",
   "metadata": {},
   "source": [
    "## 2. Gemini API and PDF Extraction Helpers\n",
    "\n",
    "This cell defines the function to call Gemini and a helper to extract text from PDFs."
   ]
  },
  {
   "cell_type": "code",
   "execution_count": 3,
   "id": "4e15350a",
   "metadata": {},
   "outputs": [],
   "source": [
    "def ask_gemini(prompt, context=None):\n",
    "    \"\"\"Send a prompt (and optional context) to Gemini API and return the response text.\"\"\"\n",
    "    headers = {\n",
    "        'Content-Type': 'application/json',\n",
    "        'X-goog-api-key': GEMINI_API_KEY\n",
    "    }\n",
    "    if context:\n",
    "        full_prompt = f\"Context: {context}\\n\\nUser: {prompt}\"\n",
    "    else:\n",
    "        full_prompt = prompt\n",
    "    data = {\n",
    "        \"contents\": [{\"parts\": [{\"text\": full_prompt}]}]\n",
    "    }\n",
    "    response = requests.post(GEMINI_API_URL, headers=headers, json=data)\n",
    "    if response.status_code == 200:\n",
    "        return response.json()['candidates'][0]['content']['parts'][0]['text']\n",
    "    else:\n",
    "        return f\"Error: {response.status_code} - {response.text}\"\n",
    "\n",
    "def extract_pdf_text(pdf_bytes):\n",
    "    \"\"\"Extract all text from a PDF file (as bytes).\"\"\"\n",
    "    reader = PyPDF2.PdfReader(BytesIO(pdf_bytes))\n",
    "    text = \"\"\n",
    "    for page in reader.pages:\n",
    "        text += page.extract_text() or \"\"\n",
    "    return text"
   ]
  },
  {
   "cell_type": "markdown",
   "id": "d3239655",
   "metadata": {},
   "source": [
    "## 3. Upload PDF and Extract Text\n",
    "\n",
    "Use the widget below to upload your PDF. The text will be extracted and stored for chat context."
   ]
  },
  {
   "cell_type": "code",
   "execution_count": 7,
   "id": "9133ea30",
   "metadata": {},
   "outputs": [
    {
     "data": {
      "text/markdown": [
       "**Upload a PDF to begin chatting:**"
      ],
      "text/plain": [
       "<IPython.core.display.Markdown object>"
      ]
     },
     "metadata": {},
     "output_type": "display_data"
    },
    {
     "data": {
      "application/vnd.jupyter.widget-view+json": {
       "model_id": "d7a375b9eaa341dabaa7320dfedbed5f",
       "version_major": 2,
       "version_minor": 0
      },
      "text/plain": [
       "FileUpload(value=(), accept='.pdf', description='Upload')"
      ]
     },
     "metadata": {},
     "output_type": "display_data"
    },
    {
     "data": {
      "text/markdown": [
       "**PDF loaded. Extracted 111411 characters.**"
      ],
      "text/plain": [
       "<IPython.core.display.Markdown object>"
      ]
     },
     "metadata": {},
     "output_type": "display_data"
    },
    {
     "data": {
      "text/markdown": [
       "You can now ask questions or request a summary."
      ],
      "text/plain": [
       "<IPython.core.display.Markdown object>"
      ]
     },
     "metadata": {},
     "output_type": "display_data"
    }
   ],
   "source": [
    "upload_widget = widgets.FileUpload(accept='.pdf', multiple=False)\n",
    "display(Markdown('**Upload a PDF to begin chatting:**'))\n",
    "display(upload_widget)\n",
    "\n",
    "pdf_text = ''\n",
    "\n",
    "def on_upload_change(change):\n",
    "    global pdf_text\n",
    "    if upload_widget.value:\n",
    "        file_info = upload_widget.value[0]\n",
    "        pdf_bytes = file_info['content']\n",
    "        pdf_text = extract_pdf_text(pdf_bytes)\n",
    "        display(Markdown(f\"**PDF loaded. Extracted {len(pdf_text)} characters.**\"))\n",
    "        display(Markdown('You can now ask questions or request a summary.'))\n",
    "\n",
    "upload_widget.observe(on_upload_change, names='value')"
   ]
  },
  {
   "cell_type": "markdown",
   "id": "c9144df0",
   "metadata": {},
   "source": [
    "## 4. Chat with the PDF using Gemini\n",
    "\n",
    "Type your questions or requests below. The chatbot will use the extracted PDF text as context for Gemini."
   ]
  },
  {
   "cell_type": "code",
   "execution_count": 8,
   "id": "4c8d73d3",
   "metadata": {},
   "outputs": [
    {
     "data": {
      "application/vnd.jupyter.widget-view+json": {
       "model_id": "f6de4f7487cc441a925b71317aa8ba8d",
       "version_major": 2,
       "version_minor": 0
      },
      "text/plain": [
       "Textarea(value='', description='You:', placeholder='Ask a question about the PDF, or type \"summarize\"...')"
      ]
     },
     "metadata": {},
     "output_type": "display_data"
    },
    {
     "data": {
      "application/vnd.jupyter.widget-view+json": {
       "model_id": "be494949fe7c464e91d2fc794ba51873",
       "version_major": 2,
       "version_minor": 0
      },
      "text/plain": [
       "Button(button_style='primary', description='Send', style=ButtonStyle())"
      ]
     },
     "metadata": {},
     "output_type": "display_data"
    },
    {
     "data": {
      "application/vnd.jupyter.widget-view+json": {
       "model_id": "0413bf4a9ec44d079ff882f485c057cb",
       "version_major": 2,
       "version_minor": 0
      },
      "text/plain": [
       "Output()"
      ]
     },
     "metadata": {},
     "output_type": "display_data"
    },
    {
     "data": {
      "text/markdown": [
       "**You:** summarize the paper"
      ],
      "text/plain": [
       "<IPython.core.display.Markdown object>"
      ]
     },
     "metadata": {},
     "output_type": "display_data"
    },
    {
     "data": {
      "text/markdown": [
       "**Gemini:** This paper explores the potential and challenges of adopting Artificial Intelligence (AI) in humanitarian practice, emphasizing the crucial role of Human-Computer Interaction (HCI) principles. Through thematic analysis of interviews with AI experts, humanitarian practitioners, and policy developers, the study identifies three key interconnected themes: AI risks in humanitarian work (data privacy, bias, ethical dilemmas), organizational readiness (literacy gaps, leadership, governance), and collaboration (cross-sector partnerships, ethical considerations). The authors propose an HCI-informed framework called ECHO (Educate, Co-create, Handhold, Optimize) to support responsible AI adoption by building ethical capacity, enhancing organizational readiness, and fostering equitable collaborations. The paper argues that HCI can guide the development of AI systems tailored to the complex demands of humanitarian contexts, ensuring ethical governance, capacity building, and participatory design for sustainable and accountable AI implementation.\n"
      ],
      "text/plain": [
       "<IPython.core.display.Markdown object>"
      ]
     },
     "metadata": {},
     "output_type": "display_data"
    },
    {
     "data": {
      "text/markdown": [
       "**You:** summarize the paper"
      ],
      "text/plain": [
       "<IPython.core.display.Markdown object>"
      ]
     },
     "metadata": {},
     "output_type": "display_data"
    },
    {
     "data": {
      "text/markdown": [
       "**Gemini:** This paper explores the potential and challenges of adopting Artificial Intelligence (AI) in humanitarian practice, emphasizing the crucial role of Human-Computer Interaction (HCI) principles. Through thematic analysis of interviews with AI experts, humanitarian practitioners, and policy developers, the study identifies three key interconnected themes: AI risks in humanitarian work (data privacy, bias, ethical dilemmas), organizational readiness (literacy gaps, leadership, governance), and collaboration (cross-sector partnerships, ethical considerations). The authors propose an HCI-informed framework called ECHO (Educate, Co-create, Handhold, Optimize) to support responsible AI adoption by building ethical capacity, enhancing organizational readiness, and fostering equitable collaborations. The paper argues that HCI can guide the development of AI systems tailored to the complex demands of humanitarian contexts, ensuring ethical governance, capacity building, and participatory design for sustainable and accountable AI implementation.\n"
      ],
      "text/plain": [
       "<IPython.core.display.Markdown object>"
      ]
     },
     "metadata": {},
     "output_type": "display_data"
    },
    {
     "data": {
      "text/markdown": [
       "**You:** what are the approaches used to collect the data?"
      ],
      "text/plain": [
       "<IPython.core.display.Markdown object>"
      ]
     },
     "metadata": {},
     "output_type": "display_data"
    },
    {
     "data": {
      "text/markdown": [
       "**Gemini:** The paper states that the data was collected through qualitative semi-structured interviews.\n"
      ],
      "text/plain": [
       "<IPython.core.display.Markdown object>"
      ]
     },
     "metadata": {},
     "output_type": "display_data"
    }
   ],
   "source": [
    "input_box = widgets.Textarea(placeholder='Ask a question about the PDF, or type \"summarize\"...', description='You:')\n",
    "submit_btn = widgets.Button(description='Send', button_style='primary')\n",
    "output_area = widgets.Output()\n",
    "\n",
    "chat_history = []\n",
    "\n",
    "def on_submit(_):\n",
    "    user_query = input_box.value.strip()\n",
    "    if not user_query:\n",
    "        return\n",
    "    if not pdf_text:\n",
    "        with output_area:\n",
    "            display(Markdown('**Please upload a PDF first.**'))\n",
    "        return\n",
    "    chat_history.append({'role': 'user', 'content': user_query})\n",
    "    with output_area:\n",
    "        display(Markdown(f'**You:** {user_query}'))\n",
    "        display(Markdown('**Gemini is thinking...**'))\n",
    "    # Call Gemini API\n",
    "    response = ask_gemini(user_query, context=pdf_text)\n",
    "    chat_history.append({'role': 'gemini', 'content': response})\n",
    "    with output_area:\n",
    "        display(Markdown(f'**Gemini:** {response}'))\n",
    "    input_box.value = ''\n",
    "    output_area.clear_output(wait=True)\n",
    "    # Re-display chat history\n",
    "    for turn in chat_history:\n",
    "        if turn['role'] == 'user':\n",
    "            display(Markdown(f'**You:** {turn[\"content\"]}'))\n",
    "        else:\n",
    "            display(Markdown(f'**Gemini:** {turn[\"content\"]}'))\n",
    "\n",
    "submit_btn.on_click(on_submit)\n",
    "display(input_box, submit_btn, output_area)"
   ]
  }
 ],
 "metadata": {
  "kernelspec": {
   "display_name": "authormaton",
   "language": "python",
   "name": "python3"
  },
  "language_info": {
   "codemirror_mode": {
    "name": "ipython",
    "version": 3
   },
   "file_extension": ".py",
   "mimetype": "text/x-python",
   "name": "python",
   "nbconvert_exporter": "python",
   "pygments_lexer": "ipython3",
   "version": "3.10.18"
  }
 },
 "nbformat": 4,
 "nbformat_minor": 5
}
